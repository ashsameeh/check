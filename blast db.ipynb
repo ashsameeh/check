{
 "cells": [
  {
   "cell_type": "code",
   "execution_count": null,
   "metadata": {},
   "outputs": [],
   "source": []
  },
  {
   "cell_type": "code",
   "execution_count": null,
   "metadata": {},
   "outputs": [],
   "source": [
    "# from Bio.Seq import Seq\n",
    "\n",
    "# #create a sequence object\n",
    "# my_seq = Seq(\"CATGTAGACTAG\")\n",
    "\n",
    "# #print out some details about it\n",
    "# print(\"seq %s is %i bases long\" % (my_seq, len(my_seq)))\n",
    "# print(\"reverse complement is %s\" % my_seq.reverse_complement())\n",
    "# print(\"protein translation is %s\" % my_seq.translate())"
   ]
  },
  {
   "cell_type": "code",
   "execution_count": null,
   "metadata": {},
   "outputs": [],
   "source": [
    "# from Bio import SeqIO\n",
    "# seq_quantity=0\n",
    "# for seq_record in SeqIO.parse(\"uniprot_sprot1.fasta\", \"fasta\"):\n",
    "#     seq_quantity=seq_quantity+1\n",
    "#     print(seq_record.id)\n",
    "#     print((seq_record.seq))\n",
    "#     print(len(seq_record))\n",
    "    \n",
    "# print(seq_quantity)"
   ]
  },
  {
   "cell_type": "code",
   "execution_count": null,
   "metadata": {},
   "outputs": [],
   "source": []
  },
  {
   "cell_type": "code",
   "execution_count": 17,
   "metadata": {},
   "outputs": [
    {
     "name": "stdin",
     "output_type": "stream",
     "text": [
      "Enter Kmers size:  30\n"
     ]
    },
    {
     "name": "stdout",
     "output_type": "stream",
     "text": [
      "MAFSAEDVLKEYDRRRRMEALLLSLYYPNDRKLLDYKEWSPPRVQVECPKAPVEWNNPPSEKGLIVGHFSGIKYKGEKAQASEVDVNKMCCWVSKFKDAMRRYQGIQTCKIPGKVLSDLDAKIKAYNLTVEGVEGFVRYSRVTKQHVAAFLKELRHSKQYENVNLIHYILTDKRVDIQHLEKDLVKDFKALVESAHRMRQGHMINVKYILYQLLKKHGHGPDGPDILTVKTGSKGVLYDDSFRKIYTDLGWKFTPL\n",
      "MSIIGATRLQNDKSDTYSAGPCYAGGCSAFTPRGTCGKDWDLGEQTCASGFCTSQPLCARIKKTQVCGLRYSSKGKDPLVSAEWDSRGAPYVRCTYDADLIDTQAQVDQFVSMFGESPSLAERYCMRGVKNTAGELVSRVSSDADPAGGWCRKWYSAHRGPDQDAALGSFCIKNPGAADCKCINRASDPVYQKVKTLHAYPDQCWYVPCAADVGELKMGTQRDTPTNCPTQVCQIVFNMLDDGSVTMDDVKNTINCDFSKYVPPPPPPKPTPPTPPTPPTPPTPPTPPTPPTPRPVHNRKVMFFVAGAVLVAILISTVRW\n"
     ]
    }
   ],
   "source": [
    "# for i in seq_quantity:\n",
    "from Bio import SeqIO\n",
    "kmer_size = raw_input(\"Enter Kmers size: \")\n",
    "def reverse_string(s):\n",
    "    return s[::-1]\n",
    "dictionary = {}\n",
    "for seq_record in SeqIO.parse(\"uniprot_sprot1.fasta\", \"fasta\"):\n",
    "    i=0\n",
    "    j=0\n",
    "    k=0\n",
    "    kmer_size=int(kmer_size)\n",
    "    print(seq_record.seq)\n",
    "    temp=seq_record.seq\n",
    "#     check=temp[i]\n",
    "    check= ''\n",
    "    length=len(seq_record)\n",
    "    for a in range(length-kmer_size+1):\n",
    "        for i in range(kmer_size):\n",
    "            check=temp[k]+check\n",
    "            k=k+1\n",
    "#             print(check)             \n",
    "        check = reverse_string(check)\n",
    "#         print(check)\n",
    "        dictionary[check]={'id':seq_record.id,'starting index':j}\n",
    "        file1 = open(\"dbbioinfo.txt\",\"a+\")\n",
    "        file1.write(check)\n",
    "        file1.write(\" \")\n",
    "        file1.write(str(dictionary[check]['id']))\n",
    "        file1.writelines(str(' starting index = '))\n",
    "        file1.write(str(dictionary[check]['starting index']))\n",
    "        file1.write('\\n')\n",
    "        check=''\n",
    "        j = j+1          #global variable for kmer\n",
    "        k=j              #to access kmer of a particular place\n",
    "#     print(check)\n",
    "    \n"
   ]
  },
  {
   "cell_type": "code",
   "execution_count": null,
   "metadata": {},
   "outputs": [],
   "source": [
    "# print(dictionary['ILISTVRW'])\n",
    "#print(dictionary)\n",
    "print(dictionary['ALVESAHRMRQGHMINVKYI']['id'])"
   ]
  },
  {
   "cell_type": "code",
   "execution_count": null,
   "metadata": {},
   "outputs": [],
   "source": []
  }
 ],
 "metadata": {
  "kernelspec": {
   "display_name": "Python 2",
   "language": "python",
   "name": "python2"
  },
  "language_info": {
   "codemirror_mode": {
    "name": "ipython",
    "version": 2
   },
   "file_extension": ".py",
   "mimetype": "text/x-python",
   "name": "python",
   "nbconvert_exporter": "python",
   "pygments_lexer": "ipython2",
   "version": "2.7.16"
  }
 },
 "nbformat": 4,
 "nbformat_minor": 2
}
